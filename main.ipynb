{
  "nbformat": 4,
  "nbformat_minor": 0,
  "metadata": {
    "colab": {
      "provenance": []
    },
    "kernelspec": {
      "name": "python3",
      "display_name": "Python 3"
    },
    "language_info": {
      "name": "python"
    }
  },
  "cells": [
    {
      "cell_type": "markdown",
      "source": [
        "## Install libraries\n",
        "Before you begin to run the script, Install the required libraries. The following libraries include \"pymongoarrow\" and \"pandas-gbq\" required for reading data from MongoDB and writing to BigQuery.*italicised text*"
      ],
      "metadata": {
        "id": "P-VY85nUdZGw"
      }
    },
    {
      "cell_type": "code",
      "source": [
        "!pip install pymongoarrow\n",
        "!pip install --upgrade pip\n",
        "!pip install pandas-gbq"
      ],
      "metadata": {
        "id": "ZBtnDswrcoh5"
      },
      "execution_count": null,
      "outputs": []
    },
    {
      "cell_type": "markdown",
      "source": [
        "## Read data from MongoDB\n",
        "\n",
        "Replace the **URI** with **MongoDB URI**. to get the URI navigate to your Atlas cluster and click on **connect**. Select the drivers as connection method. Copy the URI and update below. Also update the username and password before running the *block*."
      ],
      "metadata": {
        "id": "50BAqOUJcuGB"
      }
    },
    {
      "cell_type": "code",
      "source": [
        "import certifi\n",
        "import pprint\n",
        "import pymongo\n",
        "import pymongoarrow\n",
        "from pymongo import MongoClient\n",
        "\n",
        "client = MongoClient(\"URI\",tlsCAFile=certifi.where())\n"
      ],
      "metadata": {
        "id": "XlXC1zEcJJCo"
      },
      "execution_count": null,
      "outputs": []
    },
    {
      "cell_type": "markdown",
      "source": [
        "## Initialize database and collection\n",
        "\n",
        "Update db_name with the database name and collection_name with name of your collection you want to read from."
      ],
      "metadata": {
        "id": "vSYRkPcReuaI"
      }
    },
    {
      "cell_type": "code",
      "source": [
        "db = client.db_name\n",
        "col = db.collection_name"
      ],
      "metadata": {
        "id": "vDZoWQPGefG7"
      },
      "execution_count": null,
      "outputs": []
    },
    {
      "cell_type": "markdown",
      "source": [
        "## Create Dataframe for data read from MongoDB"
      ],
      "metadata": {
        "id": "c4mQZ8duetnD"
      }
    },
    {
      "cell_type": "code",
      "source": [
        "from pymongoarrow.monkey import patch_all\n",
        "patch_all()\n",
        "\n",
        "import pandas as pd\n",
        "df = col.find_pandas_all({})"
      ],
      "metadata": {
        "id": "ZC1Ygtdvepgy"
      },
      "execution_count": null,
      "outputs": []
    },
    {
      "cell_type": "markdown",
      "source": [
        "## Transform the schema for required format."
      ],
      "metadata": {
        "id": "XantgL6VfmVz"
      }
    },
    {
      "cell_type": "code",
      "source": [
        "import json\n",
        "df[\"id\"] = str(df[\"_id\"])\n",
        "del(df[\"_id\"])\n"
      ],
      "metadata": {
        "id": "NkUORBXmf0mh"
      },
      "execution_count": null,
      "outputs": []
    },
    {
      "cell_type": "markdown",
      "source": [
        "## Write the transformed data to BigQuery\n",
        "\n",
        "Update the gcp-project-name.bigquery-dataset-name.bigquery-table-name with the GCP project name, BigQuery Dataset name and Table name respectively. also update the project id with your GCP project id."
      ],
      "metadata": {
        "id": "O_NxTT9Tf2Yx"
      }
    },
    {
      "cell_type": "code",
      "source": [
        "import pandas_gbq\n",
        "\n",
        "pandas_gbq.to_gbq(df[0:100], \"gcp-project-name.bigquery-dataset-name.bigquery-table-name\", project_id=\"gcp-project-name\")"
      ],
      "metadata": {
        "id": "4-kdopaWgPUW"
      },
      "execution_count": null,
      "outputs": []
    }
  ]
}